{
  "nbformat": 4,
  "nbformat_minor": 0,
  "metadata": {
    "colab": {
      "name": "TinhSA.ipynb",
      "provenance": [],
      "authorship_tag": "ABX9TyMW9ghQlV8Mwd40TGq0o7vG",
      "include_colab_link": true
    },
    "kernelspec": {
      "name": "python3",
      "display_name": "Python 3"
    },
    "language_info": {
      "name": "python"
    }
  },
  "cells": [
    {
      "cell_type": "markdown",
      "metadata": {
        "id": "view-in-github",
        "colab_type": "text"
      },
      "source": [
        "<a href=\"https://colab.research.google.com/github/huynhhoc/SA/blob/main/TinhSA.ipynb\" target=\"_parent\"><img src=\"https://colab.research.google.com/assets/colab-badge.svg\" alt=\"Open In Colab\"/></a>"
      ]
    },
    {
      "cell_type": "code",
      "source": [
        "import pandas as pd\n",
        "resultAFP1Final = pd.read_csv(\"https://raw.githubusercontent.com/huynhhoc/SA/main/resultAFP1Final.csv\")\n",
        "resultAFP2Final = pd.read_csv(\"https://raw.githubusercontent.com/huynhhoc/SA/main/resultAFP2Final.csv\")\n",
        "resultAFP3Final = pd.read_csv(\"https://raw.githubusercontent.com/huynhhoc/SA/main/resultAFP3Final.csv\")\n",
        "resultAFP4Final = pd.read_csv(\"https://raw.githubusercontent.com/huynhhoc/SA/main/resultAFP4Final.csv\")\n",
        "resultAFP5Final = pd.read_csv(\"https://raw.githubusercontent.com/huynhhoc/SA/main/resultAFP5Final.csv\")\n",
        "resultAFP6Final = pd.read_csv(\"https://raw.githubusercontent.com/huynhhoc/SA/main/resultAFP6Final.csv\")"
      ],
      "metadata": {
        "id": "NQnxVPF6mVxt"
      },
      "execution_count": 2,
      "outputs": []
    },
    {
      "cell_type": "code",
      "metadata": {
        "id": "Myi1h6SDhy8_"
      },
      "source": [
        "def sa_calc(Y_predict, Y_actual):\n",
        "    ar = 0\n",
        "    for predict, actual in zip(Y_predict, Y_actual):\n",
        "        ar += abs(predict - actual)\n",
        "    mar = ar / (len(Y_predict))\n",
        "    marr = sum(Y_actual) / len(Y_actual)\n",
        "    sa_error = (1 - mar / marr)\n",
        "    return sa_error"
      ],
      "execution_count": 1,
      "outputs": []
    },
    {
      "cell_type": "code",
      "source": [
        "SA1 = sa_calc(resultAFP1Final.realValues, resultAFP1Final.predictValues)\n",
        "SA2 = sa_calc(resultAFP2Final.realValues, resultAFP2Final.predictValues)\n",
        "SA3= sa_calc(resultAFP3Final.realValues, resultAFP3Final.predictValues)\n",
        "SA4 = sa_calc(resultAFP4Final.realValues, resultAFP4Final.predictValues)\n",
        "SA5 = sa_calc(resultAFP5Final.realValues, resultAFP5Final.predictValues)\n",
        "SA6 = sa_calc(resultAFP6Final.realValues, resultAFP6Final.predictValues)"
      ],
      "metadata": {
        "id": "Ut9-fXVvmluu"
      },
      "execution_count": 3,
      "outputs": []
    },
    {
      "cell_type": "code",
      "source": [
        "print (SA1, SA2, SA3, SA4, SA5, SA6)"
      ],
      "metadata": {
        "id": "X-hygauVm2vV",
        "outputId": "4aad5f92-fe7c-45de-8e40-7dd6c40b4967",
        "colab": {
          "base_uri": "https://localhost:8080/"
        }
      },
      "execution_count": 4,
      "outputs": [
        {
          "output_type": "stream",
          "name": "stdout",
          "text": [
            "0.27308141262216856 0.25167872518112977 0.3139936744775911 0.2107783148999015 0.37045980132832323 0.2533799790926454\n"
          ]
        }
      ]
    }
  ]
}